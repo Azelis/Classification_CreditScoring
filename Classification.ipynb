{
 "cells": [
  {
   "cell_type": "markdown",
   "metadata": {},
   "source": [
    "# Machine Learning for Credit Scoring"
   ]
  },
  {
   "cell_type": "markdown",
   "metadata": {},
   "source": [
    "### Classification Models Applied and Compared (Supervised Learning)\n",
    "- Logistic Regression\n",
    "- Decision Tree\n",
    "- Random Forest\n",
    "- Support Vector Machine (SVM)\n",
    "- Stochastic Gradient Descent\n",
    "- Extreme Gradient Boosting\n",
    "- k-nearest neighbors\n",
    "<br>\n",
    "<br>\n",
    "- Using **cross validation** to determine more accurate score which is **roc_auc**\n",
    "\n",
    "### Content\n",
    "1. Data Exploration\n",
    "2. Data Clearance\n",
    "3. Building and Selecting the Model\n",
    "4. Performance of Model\n",
    "\n",
    "\n",
    "### Goal\n",
    "To create data mining model which helps to determine if a customer will be delinquent in upcoming 2 years after 90 days past.\n",
    "\n",
    "\n",
    "### Given Variables\n",
    "- **DelinquentMore90Days_2Yrs** Person experienced 90 days past due delinquency or worse **(Target)**\n",
    "\n",
    "- **CreditBalanceVsCreditLimit**: Total balance on credit cards and personal lines of credit except real estate and no installment debt like car loans divided by the sum of credit limits\n",
    "\n",
    "- **Age** Age of borrower in years\n",
    "\n",
    "- **MonthlyIncome**: Monthly income\n",
    "\n",
    "- **DebtRatio**: Monthly debt payments, alimony,living costs divided by monthy gross income\n",
    "\n",
    "- **LoansAndCreditLines**: Number of Open loans (installment like car loan or mortgage) and Lines of credit (e.g. credit cards)\n",
    "\n",
    "- **Days30-59LateNo2Y**: Number of times borrower has been 30-59 days past due but no worse in the last 2 years.\n",
    "\n",
    "- **Days60-89LateNo2Y**: Number of times borrower has been 60-89 days past due but no worse in the last 2 years.\n",
    "\n",
    "- **Days90LateOrMore**: Number of times borrower has been 90 days or more past due.\n",
    "\n",
    "- **RealEstateLoans**: Number of mortgage and real estate loans including home equity lines of credit\n",
    "\n",
    "- **FamilyMembers**: Number of dependents in family excluding themselves (spouse, children etc.)"
   ]
  },
  {
   "cell_type": "code",
   "execution_count": 1,
   "metadata": {},
   "outputs": [],
   "source": [
    "import pandas as pd\n",
    "import numpy as np\n",
    "import matplotlib.pyplot as plt\n",
    "import seaborn as sns\n",
    "import time\n",
    "\n",
    "from sklearn.model_selection import train_test_split\n",
    "from sklearn.metrics import accuracy_score, recall_score\n",
    "from sklearn.metrics import roc_curve, auc, roc_auc_score\n",
    "\n",
    "from sklearn import tree\n",
    "from sklearn import svm\n",
    "from sklearn.linear_model import LogisticRegression\n",
    "from sklearn.linear_model import SGDClassifier\n",
    "from sklearn.ensemble import RandomForestClassifier\n",
    "from sklearn.neighbors import KNeighborsClassifier\n",
    "\n",
    "from sklearn.model_selection import cross_val_score\n",
    "from sklearn.model_selection import GridSearchCV\n",
    "\n",
    "from xgboost import XGBClassifier"
   ]
  },
  {
   "cell_type": "code",
   "execution_count": 2,
   "metadata": {},
   "outputs": [],
   "source": [
    "df = pd.read_csv('data.csv',index_col=0)"
   ]
  },
  {
   "cell_type": "markdown",
   "metadata": {},
   "source": [
    "## 1. Data Exploration"
   ]
  },
  {
   "cell_type": "code",
   "execution_count": 3,
   "metadata": {
    "scrolled": true
   },
   "outputs": [
    {
     "data": {
      "text/html": [
       "<div>\n",
       "<style scoped>\n",
       "    .dataframe tbody tr th:only-of-type {\n",
       "        vertical-align: middle;\n",
       "    }\n",
       "\n",
       "    .dataframe tbody tr th {\n",
       "        vertical-align: top;\n",
       "    }\n",
       "\n",
       "    .dataframe thead th {\n",
       "        text-align: right;\n",
       "    }\n",
       "</style>\n",
       "<table border=\"1\" class=\"dataframe\">\n",
       "  <thead>\n",
       "    <tr style=\"text-align: right;\">\n",
       "      <th></th>\n",
       "      <th>DelinquentMore90Days_2Yrs</th>\n",
       "      <th>CreditBalanceVsCreditLimit</th>\n",
       "      <th>Age</th>\n",
       "      <th>DebtRatio</th>\n",
       "      <th>MonthlyIncome</th>\n",
       "      <th>LoansAndCreditLines</th>\n",
       "      <th>Days30-59LateNo2Y</th>\n",
       "      <th>Days60-89LateNo2Y</th>\n",
       "      <th>Days90LateOrMore</th>\n",
       "      <th>RealEstateLoans</th>\n",
       "      <th>FamilyMembers</th>\n",
       "    </tr>\n",
       "  </thead>\n",
       "  <tbody>\n",
       "    <tr>\n",
       "      <th>1</th>\n",
       "      <td>1</td>\n",
       "      <td>0.766127</td>\n",
       "      <td>45</td>\n",
       "      <td>0.802982</td>\n",
       "      <td>9120.0</td>\n",
       "      <td>13</td>\n",
       "      <td>2</td>\n",
       "      <td>0</td>\n",
       "      <td>0</td>\n",
       "      <td>6</td>\n",
       "      <td>2.0</td>\n",
       "    </tr>\n",
       "    <tr>\n",
       "      <th>2</th>\n",
       "      <td>0</td>\n",
       "      <td>0.957151</td>\n",
       "      <td>40</td>\n",
       "      <td>0.121876</td>\n",
       "      <td>2600.0</td>\n",
       "      <td>4</td>\n",
       "      <td>0</td>\n",
       "      <td>0</td>\n",
       "      <td>0</td>\n",
       "      <td>0</td>\n",
       "      <td>1.0</td>\n",
       "    </tr>\n",
       "    <tr>\n",
       "      <th>3</th>\n",
       "      <td>0</td>\n",
       "      <td>0.658180</td>\n",
       "      <td>38</td>\n",
       "      <td>0.085113</td>\n",
       "      <td>3042.0</td>\n",
       "      <td>2</td>\n",
       "      <td>1</td>\n",
       "      <td>0</td>\n",
       "      <td>1</td>\n",
       "      <td>0</td>\n",
       "      <td>0.0</td>\n",
       "    </tr>\n",
       "    <tr>\n",
       "      <th>4</th>\n",
       "      <td>0</td>\n",
       "      <td>0.233810</td>\n",
       "      <td>30</td>\n",
       "      <td>0.036050</td>\n",
       "      <td>3300.0</td>\n",
       "      <td>5</td>\n",
       "      <td>0</td>\n",
       "      <td>0</td>\n",
       "      <td>0</td>\n",
       "      <td>0</td>\n",
       "      <td>0.0</td>\n",
       "    </tr>\n",
       "    <tr>\n",
       "      <th>5</th>\n",
       "      <td>0</td>\n",
       "      <td>0.907239</td>\n",
       "      <td>49</td>\n",
       "      <td>0.024926</td>\n",
       "      <td>63588.0</td>\n",
       "      <td>7</td>\n",
       "      <td>1</td>\n",
       "      <td>0</td>\n",
       "      <td>0</td>\n",
       "      <td>1</td>\n",
       "      <td>0.0</td>\n",
       "    </tr>\n",
       "  </tbody>\n",
       "</table>\n",
       "</div>"
      ],
      "text/plain": [
       "   DelinquentMore90Days_2Yrs  CreditBalanceVsCreditLimit  Age  DebtRatio  \\\n",
       "1                          1                    0.766127   45   0.802982   \n",
       "2                          0                    0.957151   40   0.121876   \n",
       "3                          0                    0.658180   38   0.085113   \n",
       "4                          0                    0.233810   30   0.036050   \n",
       "5                          0                    0.907239   49   0.024926   \n",
       "\n",
       "   MonthlyIncome  LoansAndCreditLines  Days30-59LateNo2Y  Days60-89LateNo2Y  \\\n",
       "1         9120.0                   13                  2                  0   \n",
       "2         2600.0                    4                  0                  0   \n",
       "3         3042.0                    2                  1                  0   \n",
       "4         3300.0                    5                  0                  0   \n",
       "5        63588.0                    7                  1                  0   \n",
       "\n",
       "   Days90LateOrMore  RealEstateLoans  FamilyMembers  \n",
       "1                 0                6            2.0  \n",
       "2                 0                0            1.0  \n",
       "3                 1                0            0.0  \n",
       "4                 0                0            0.0  \n",
       "5                 0                1            0.0  "
      ]
     },
     "execution_count": 3,
     "metadata": {},
     "output_type": "execute_result"
    }
   ],
   "source": [
    "df.head()"
   ]
  },
  {
   "cell_type": "code",
   "execution_count": 4,
   "metadata": {
    "scrolled": false
   },
   "outputs": [
    {
     "data": {
      "text/html": [
       "<div>\n",
       "<style scoped>\n",
       "    .dataframe tbody tr th:only-of-type {\n",
       "        vertical-align: middle;\n",
       "    }\n",
       "\n",
       "    .dataframe tbody tr th {\n",
       "        vertical-align: top;\n",
       "    }\n",
       "\n",
       "    .dataframe thead th {\n",
       "        text-align: right;\n",
       "    }\n",
       "</style>\n",
       "<table border=\"1\" class=\"dataframe\">\n",
       "  <thead>\n",
       "    <tr style=\"text-align: right;\">\n",
       "      <th></th>\n",
       "      <th>DelinquentMore90Days_2Yrs</th>\n",
       "      <th>CreditBalanceVsCreditLimit</th>\n",
       "      <th>Age</th>\n",
       "      <th>DebtRatio</th>\n",
       "      <th>MonthlyIncome</th>\n",
       "      <th>LoansAndCreditLines</th>\n",
       "      <th>Days30-59LateNo2Y</th>\n",
       "      <th>Days60-89LateNo2Y</th>\n",
       "      <th>Days90LateOrMore</th>\n",
       "      <th>RealEstateLoans</th>\n",
       "      <th>FamilyMembers</th>\n",
       "    </tr>\n",
       "  </thead>\n",
       "  <tbody>\n",
       "    <tr>\n",
       "      <th>count</th>\n",
       "      <td>150000.000000</td>\n",
       "      <td>150000.000000</td>\n",
       "      <td>150000.000000</td>\n",
       "      <td>150000.000000</td>\n",
       "      <td>1.202690e+05</td>\n",
       "      <td>150000.000000</td>\n",
       "      <td>150000.000000</td>\n",
       "      <td>150000.000000</td>\n",
       "      <td>150000.000000</td>\n",
       "      <td>150000.000000</td>\n",
       "      <td>146076.000000</td>\n",
       "    </tr>\n",
       "    <tr>\n",
       "      <th>mean</th>\n",
       "      <td>0.066840</td>\n",
       "      <td>6.048438</td>\n",
       "      <td>52.295207</td>\n",
       "      <td>353.005076</td>\n",
       "      <td>6.670221e+03</td>\n",
       "      <td>8.452760</td>\n",
       "      <td>0.421033</td>\n",
       "      <td>0.240387</td>\n",
       "      <td>0.265973</td>\n",
       "      <td>1.018240</td>\n",
       "      <td>0.757222</td>\n",
       "    </tr>\n",
       "    <tr>\n",
       "      <th>std</th>\n",
       "      <td>0.249746</td>\n",
       "      <td>249.755371</td>\n",
       "      <td>14.771866</td>\n",
       "      <td>2037.818523</td>\n",
       "      <td>1.438467e+04</td>\n",
       "      <td>5.145951</td>\n",
       "      <td>4.192781</td>\n",
       "      <td>4.155179</td>\n",
       "      <td>4.169304</td>\n",
       "      <td>1.129771</td>\n",
       "      <td>1.115086</td>\n",
       "    </tr>\n",
       "    <tr>\n",
       "      <th>min</th>\n",
       "      <td>0.000000</td>\n",
       "      <td>0.000000</td>\n",
       "      <td>0.000000</td>\n",
       "      <td>0.000000</td>\n",
       "      <td>0.000000e+00</td>\n",
       "      <td>0.000000</td>\n",
       "      <td>0.000000</td>\n",
       "      <td>0.000000</td>\n",
       "      <td>0.000000</td>\n",
       "      <td>0.000000</td>\n",
       "      <td>0.000000</td>\n",
       "    </tr>\n",
       "    <tr>\n",
       "      <th>25%</th>\n",
       "      <td>0.000000</td>\n",
       "      <td>0.029867</td>\n",
       "      <td>41.000000</td>\n",
       "      <td>0.175074</td>\n",
       "      <td>3.400000e+03</td>\n",
       "      <td>5.000000</td>\n",
       "      <td>0.000000</td>\n",
       "      <td>0.000000</td>\n",
       "      <td>0.000000</td>\n",
       "      <td>0.000000</td>\n",
       "      <td>0.000000</td>\n",
       "    </tr>\n",
       "    <tr>\n",
       "      <th>50%</th>\n",
       "      <td>0.000000</td>\n",
       "      <td>0.154181</td>\n",
       "      <td>52.000000</td>\n",
       "      <td>0.366508</td>\n",
       "      <td>5.400000e+03</td>\n",
       "      <td>8.000000</td>\n",
       "      <td>0.000000</td>\n",
       "      <td>0.000000</td>\n",
       "      <td>0.000000</td>\n",
       "      <td>1.000000</td>\n",
       "      <td>0.000000</td>\n",
       "    </tr>\n",
       "    <tr>\n",
       "      <th>75%</th>\n",
       "      <td>0.000000</td>\n",
       "      <td>0.559046</td>\n",
       "      <td>63.000000</td>\n",
       "      <td>0.868254</td>\n",
       "      <td>8.249000e+03</td>\n",
       "      <td>11.000000</td>\n",
       "      <td>0.000000</td>\n",
       "      <td>0.000000</td>\n",
       "      <td>0.000000</td>\n",
       "      <td>2.000000</td>\n",
       "      <td>1.000000</td>\n",
       "    </tr>\n",
       "    <tr>\n",
       "      <th>max</th>\n",
       "      <td>1.000000</td>\n",
       "      <td>50708.000000</td>\n",
       "      <td>109.000000</td>\n",
       "      <td>329664.000000</td>\n",
       "      <td>3.008750e+06</td>\n",
       "      <td>58.000000</td>\n",
       "      <td>98.000000</td>\n",
       "      <td>98.000000</td>\n",
       "      <td>98.000000</td>\n",
       "      <td>54.000000</td>\n",
       "      <td>20.000000</td>\n",
       "    </tr>\n",
       "  </tbody>\n",
       "</table>\n",
       "</div>"
      ],
      "text/plain": [
       "       DelinquentMore90Days_2Yrs  CreditBalanceVsCreditLimit            Age  \\\n",
       "count              150000.000000               150000.000000  150000.000000   \n",
       "mean                    0.066840                    6.048438      52.295207   \n",
       "std                     0.249746                  249.755371      14.771866   \n",
       "min                     0.000000                    0.000000       0.000000   \n",
       "25%                     0.000000                    0.029867      41.000000   \n",
       "50%                     0.000000                    0.154181      52.000000   \n",
       "75%                     0.000000                    0.559046      63.000000   \n",
       "max                     1.000000                50708.000000     109.000000   \n",
       "\n",
       "           DebtRatio  MonthlyIncome  LoansAndCreditLines  Days30-59LateNo2Y  \\\n",
       "count  150000.000000   1.202690e+05        150000.000000      150000.000000   \n",
       "mean      353.005076   6.670221e+03             8.452760           0.421033   \n",
       "std      2037.818523   1.438467e+04             5.145951           4.192781   \n",
       "min         0.000000   0.000000e+00             0.000000           0.000000   \n",
       "25%         0.175074   3.400000e+03             5.000000           0.000000   \n",
       "50%         0.366508   5.400000e+03             8.000000           0.000000   \n",
       "75%         0.868254   8.249000e+03            11.000000           0.000000   \n",
       "max    329664.000000   3.008750e+06            58.000000          98.000000   \n",
       "\n",
       "       Days60-89LateNo2Y  Days90LateOrMore  RealEstateLoans  FamilyMembers  \n",
       "count      150000.000000     150000.000000    150000.000000  146076.000000  \n",
       "mean            0.240387          0.265973         1.018240       0.757222  \n",
       "std             4.155179          4.169304         1.129771       1.115086  \n",
       "min             0.000000          0.000000         0.000000       0.000000  \n",
       "25%             0.000000          0.000000         0.000000       0.000000  \n",
       "50%             0.000000          0.000000         1.000000       0.000000  \n",
       "75%             0.000000          0.000000         2.000000       1.000000  \n",
       "max            98.000000         98.000000        54.000000      20.000000  "
      ]
     },
     "execution_count": 4,
     "metadata": {},
     "output_type": "execute_result"
    }
   ],
   "source": [
    "df.describe()"
   ]
  },
  {
   "cell_type": "markdown",
   "metadata": {},
   "source": [
    "- MonthlyIncome has 29731 (19.82%) and NumberOfDependents has 3924 (2.61%) missing data.\n",
    "- In general all variables have outliers, it can be dealt by using boxplot, z-score, inter-quartile range, or by distribution graph/ data, where can be seen a clear outliers. Some outliers are reasonable, but it is not good to use while training ml model, since it can increase models' bias\n",
    "- **DelinquentMore90Days_2Yrs** clearly our target variable has majority of values 0, since mean is ~0.0668, while all quartiles equal to 0\n",
    "- **CreditBalanceVsCreditLimit** have a very high max, so in order to remove outlier, quartile 95% can be taken as a filter.\n",
    "- **age** has value 0, which should no exist as default when person valid to have a credit is around 18.\n",
    "- **DebtRatio** clearly has very big outlier, the priority to use quartile 97.5% to remove it.\n",
    "- **MonthlyIncome** cannot drop the column, since 19.82% of data is missing, can be considered for removing rows or fill with median. Dropping NaN values better to apply, since variable is reasonable and filling with to many median variables can be misleading.\n",
    "- **LoansAndCreditLines** can be considered to use graph and if clear where the distribution should end, filter it, otherwise use quartile 97.5% to remove outliers.\n",
    "- Values for **Days30-59LateNo2Y**, **Days60-89LateNo2Y**, **Days90LateOrMore**\thave the same outliers (98). It is not possible, since for a range 30-59 cannot dropping values 98 does not seems reasonable.\n",
    "- **RealEstateLoans** use graph to find possible filter or can be considered to use quartile 97.5% to remove outliers.\n",
    "- **FamilyMembers** missing values can be change to 0, since the mediana is 0 and missing value can mean a 0, which by this variable is reasonable. Use graph to explore if 20 could be outlier (but everything could be)."
   ]
  },
  {
   "cell_type": "markdown",
   "metadata": {},
   "source": [
    "## 2. Data Clearance"
   ]
  },
  {
   "cell_type": "code",
   "execution_count": 5,
   "metadata": {},
   "outputs": [],
   "source": [
    "# Graph function to not repeat the function for every variable #\n",
    "def descriptive_graph(dataset,col_name):\n",
    "    plt.hist([dataset[dataset[\"DelinquentMore90Days_2Yrs\"]==1][col_name],\n",
    "                 dataset[dataset[\"DelinquentMore90Days_2Yrs\"]==0][col_name]], bins=30, stacked=True)\n",
    "    plt.legend(labels=[\"DelinquentMore90Days_2Yrs-1\",\"DelinquentMore90Days_2Yrs-0\"])\n",
    "    plt.title(col_name)\n",
    "    return plt.show()"
   ]
  },
  {
   "cell_type": "markdown",
   "metadata": {},
   "source": [
    "**CreditBalanceVsCreditLimit**"
   ]
  },
  {
   "cell_type": "code",
   "execution_count": 6,
   "metadata": {
    "scrolled": false
   },
   "outputs": [
    {
     "data": {
      "text/plain": [
       "0.000000    10878\n",
       "1.000000    10256\n",
       "1.000000       17\n",
       "0.950100        8\n",
       "0.713147        6\n",
       "            ...  \n",
       "0.486200        1\n",
       "0.039377        1\n",
       "0.030780        1\n",
       "0.355181        1\n",
       "0.168611        1\n",
       "Name: CreditBalanceVsCreditLimit, Length: 125728, dtype: int64"
      ]
     },
     "execution_count": 6,
     "metadata": {},
     "output_type": "execute_result"
    }
   ],
   "source": [
    "df[\"CreditBalanceVsCreditLimit\"].value_counts()"
   ]
  },
  {
   "cell_type": "code",
   "execution_count": 7,
   "metadata": {},
   "outputs": [
    {
     "data": {
      "text/plain": [
       "0.95    1.0\n",
       "Name: CreditBalanceVsCreditLimit, dtype: float64"
      ]
     },
     "execution_count": 7,
     "metadata": {},
     "output_type": "execute_result"
    }
   ],
   "source": [
    "df[\"CreditBalanceVsCreditLimit\"].quantile([.95])"
   ]
  },
  {
   "cell_type": "code",
   "execution_count": 8,
   "metadata": {},
   "outputs": [],
   "source": [
    "df = df.drop(df[df['CreditBalanceVsCreditLimit'] > 1].index)"
   ]
  },
  {
   "cell_type": "markdown",
   "metadata": {},
   "source": [
    "**Age**"
   ]
  },
  {
   "cell_type": "code",
   "execution_count": 9,
   "metadata": {},
   "outputs": [
    {
     "data": {
      "image/png": "[encoded data removed]",
      "text/plain": [
       "<Figure size 432x288 with 1 Axes>"
      ]
     },
     "metadata": {
      "needs_background": "light"
     },
     "output_type": "display_data"
    }
   ],
   "source": [
    "descriptive_graph(df,\"Age\")"
   ]
  },
  {
   "cell_type": "code",
   "execution_count": 10,
   "metadata": {},
   "outputs": [],
   "source": [
    "df = df[df[\"Age\"] > 18]"
   ]
  },
  {
   "cell_type": "markdown",
   "metadata": {},
   "source": [
    "**DebtRatio**"
   ]
  },
  {
   "cell_type": "code",
   "execution_count": 11,
   "metadata": {},
   "outputs": [
    {
     "data": {
      "text/plain": [
       "3497.0"
      ]
     },
     "execution_count": 11,
     "metadata": {},
     "output_type": "execute_result"
    }
   ],
   "source": [
    "df[\"DebtRatio\"].quantile(0.975)"
   ]
  },
  {
   "cell_type": "code",
   "execution_count": 12,
   "metadata": {},
   "outputs": [],
   "source": [
    "df = df[df[\"DebtRatio\"] < 3497]"
   ]
  },
  {
   "cell_type": "markdown",
   "metadata": {},
   "source": [
    "**MonthlyIncome**"
   ]
  },
  {
   "cell_type": "code",
   "execution_count": 13,
   "metadata": {},
   "outputs": [
    {
     "data": {
      "image/png": "[encoded data removed]",
      "text/plain": [
       "<Figure size 432x288 with 1 Axes>"
      ]
     },
     "metadata": {
      "needs_background": "light"
     },
     "output_type": "display_data"
    }
   ],
   "source": [
    "descriptive_graph(df,\"MonthlyIncome\")"
   ]
  },
  {
   "cell_type": "code",
   "execution_count": 14,
   "metadata": {},
   "outputs": [
    {
     "data": {
      "text/plain": [
       "0.975    18069.8\n",
       "Name: MonthlyIncome, dtype: float64"
      ]
     },
     "execution_count": 14,
     "metadata": {},
     "output_type": "execute_result"
    }
   ],
   "source": [
    "df[\"MonthlyIncome\"].quantile([.975])"
   ]
  },
  {
   "cell_type": "markdown",
   "metadata": {},
   "source": [
    "Since this data has very big outliers, 2.5% can be removed to have better distribution. By filtering, na values will be dropped automatically"
   ]
  },
  {
   "cell_type": "code",
   "execution_count": 15,
   "metadata": {},
   "outputs": [],
   "source": [
    "df = df[df[\"MonthlyIncome\"] <= 18069.8]"
   ]
  },
  {
   "cell_type": "code",
   "execution_count": 16,
   "metadata": {},
   "outputs": [
    {
     "data": {
      "image/png": "[encoded data removed]",
      "text/plain": [
       "<Figure size 432x288 with 1 Axes>"
      ]
     },
     "metadata": {
      "needs_background": "light"
     },
     "output_type": "display_data"
    }
   ],
   "source": [
    "descriptive_graph(df,\"MonthlyIncome\")"
   ]
  },
  {
   "cell_type": "markdown",
   "metadata": {},
   "source": [
    "**LoansAndCreditLines**"
   ]
  },
  {
   "cell_type": "code",
   "execution_count": 17,
   "metadata": {},
   "outputs": [
    {
     "data": {
      "image/png": "[encoded data removed]",
      "text/plain": [
       "<Figure size 432x288 with 1 Axes>"
      ]
     },
     "metadata": {
      "needs_background": "light"
     },
     "output_type": "display_data"
    }
   ],
   "source": [
    "descriptive_graph(df,\"LoansAndCreditLines\")"
   ]
  },
  {
   "cell_type": "markdown",
   "metadata": {},
   "source": [
    "By fiven graph, it is reasonable to filter from 28"
   ]
  },
  {
   "cell_type": "code",
   "execution_count": 18,
   "metadata": {},
   "outputs": [],
   "source": [
    "df = df[df[\"LoansAndCreditLines\"] <= 28]"
   ]
  },
  {
   "cell_type": "markdown",
   "metadata": {},
   "source": [
    "**Days30-59LateNo2Y**"
   ]
  },
  {
   "cell_type": "code",
   "execution_count": 19,
   "metadata": {},
   "outputs": [
    {
     "data": {
      "text/plain": [
       "0     95702\n",
       "1     12421\n",
       "2      3457\n",
       "3      1288\n",
       "4       529\n",
       "5       232\n",
       "98      143\n",
       "6        98\n",
       "7        38\n",
       "8        19\n",
       "9         8\n",
       "96        4\n",
       "12        2\n",
       "10        2\n",
       "13        1\n",
       "11        1\n",
       "Name: Days30-59LateNo2Y, dtype: int64"
      ]
     },
     "execution_count": 19,
     "metadata": {},
     "output_type": "execute_result"
    }
   ],
   "source": [
    "df[\"Days30-59LateNo2Y\"].value_counts()"
   ]
  },
  {
   "cell_type": "code",
   "execution_count": 20,
   "metadata": {},
   "outputs": [],
   "source": [
    "df = df[df[\"Days30-59LateNo2Y\"]<95]"
   ]
  },
  {
   "cell_type": "markdown",
   "metadata": {},
   "source": [
    "**Days60-89LateNo2Y**"
   ]
  },
  {
   "cell_type": "code",
   "execution_count": 21,
   "metadata": {},
   "outputs": [
    {
     "data": {
      "text/plain": [
       "0     95702\n",
       "1     12421\n",
       "2      3457\n",
       "3      1288\n",
       "4       529\n",
       "5       232\n",
       "6        98\n",
       "7        38\n",
       "8        19\n",
       "9         8\n",
       "12        2\n",
       "10        2\n",
       "13        1\n",
       "11        1\n",
       "Name: Days30-59LateNo2Y, dtype: int64"
      ]
     },
     "execution_count": 21,
     "metadata": {},
     "output_type": "execute_result"
    }
   ],
   "source": [
    "df[\"Days30-59LateNo2Y\"].value_counts()"
   ]
  },
  {
   "cell_type": "markdown",
   "metadata": {},
   "source": [
    "**Days90LateOrMore**"
   ]
  },
  {
   "cell_type": "code",
   "execution_count": 22,
   "metadata": {},
   "outputs": [
    {
     "data": {
      "text/plain": [
       "0     108161\n",
       "1       3817\n",
       "2       1025\n",
       "3        433\n",
       "4        186\n",
       "5         74\n",
       "6         45\n",
       "7         19\n",
       "9         12\n",
       "8         10\n",
       "10         7\n",
       "11         2\n",
       "13         2\n",
       "14         2\n",
       "15         1\n",
       "12         1\n",
       "17         1\n",
       "Name: Days90LateOrMore, dtype: int64"
      ]
     },
     "execution_count": 22,
     "metadata": {},
     "output_type": "execute_result"
    }
   ],
   "source": [
    "df[\"Days90LateOrMore\"].value_counts()"
   ]
  },
  {
   "cell_type": "markdown",
   "metadata": {},
   "source": [
    "**RealEstateLoans**"
   ]
  },
  {
   "cell_type": "code",
   "execution_count": 23,
   "metadata": {},
   "outputs": [
    {
     "data": {
      "image/png": "[encoded data removed]",
      "text/plain": [
       "<Figure size 432x288 with 1 Axes>"
      ]
     },
     "metadata": {
      "needs_background": "light"
     },
     "output_type": "display_data"
    }
   ],
   "source": [
    "descriptive_graph(df,\"RealEstateLoans\")"
   ]
  },
  {
   "cell_type": "code",
   "execution_count": 24,
   "metadata": {},
   "outputs": [
    {
     "data": {
      "text/plain": [
       "0.975    3.0\n",
       "Name: RealEstateLoans, dtype: float64"
      ]
     },
     "execution_count": 24,
     "metadata": {},
     "output_type": "execute_result"
    }
   ],
   "source": [
    "df[\"RealEstateLoans\"].quantile([.975])"
   ]
  },
  {
   "cell_type": "code",
   "execution_count": 25,
   "metadata": {},
   "outputs": [],
   "source": [
    "df = df[df[\"RealEstateLoans\"] <= 3]"
   ]
  },
  {
   "cell_type": "markdown",
   "metadata": {},
   "source": [
    "**FamilyMembers**"
   ]
  },
  {
   "cell_type": "code",
   "execution_count": 26,
   "metadata": {},
   "outputs": [
    {
     "data": {
      "image/png": "[encoded data removed]",
      "text/plain": [
       "<Figure size 432x288 with 1 Axes>"
      ]
     },
     "metadata": {
      "needs_background": "light"
     },
     "output_type": "display_data"
    }
   ],
   "source": [
    "descriptive_graph(df,\"FamilyMembers\")"
   ]
  },
  {
   "cell_type": "code",
   "execution_count": 27,
   "metadata": {},
   "outputs": [
    {
     "data": {
      "text/plain": [
       "0.975    4.0\n",
       "Name: FamilyMembers, dtype: float64"
      ]
     },
     "execution_count": 27,
     "metadata": {},
     "output_type": "execute_result"
    }
   ],
   "source": [
    "df[\"FamilyMembers\"].quantile([.975])"
   ]
  },
  {
   "cell_type": "code",
   "execution_count": 28,
   "metadata": {},
   "outputs": [
    {
     "data": {
      "text/plain": [
       "0.0     61393\n",
       "1.0     22408\n",
       "2.0     16443\n",
       "3.0      7860\n",
       "4.0      2339\n",
       "5.0       598\n",
       "6.0       131\n",
       "7.0        45\n",
       "8.0        19\n",
       "9.0         4\n",
       "10.0        4\n",
       "13.0        1\n",
       "20.0        1\n",
       "Name: FamilyMembers, dtype: int64"
      ]
     },
     "execution_count": 28,
     "metadata": {},
     "output_type": "execute_result"
    }
   ],
   "source": [
    "df[\"FamilyMembers\"].value_counts()"
   ]
  },
  {
   "cell_type": "markdown",
   "metadata": {},
   "source": [
    "13 and 20 will be removed since it can interupt the results with its high value, even it is a possible scenario"
   ]
  },
  {
   "cell_type": "code",
   "execution_count": 29,
   "metadata": {},
   "outputs": [],
   "source": [
    "df = df[df[\"FamilyMembers\"] <= 10]"
   ]
  },
  {
   "cell_type": "code",
   "execution_count": 30,
   "metadata": {},
   "outputs": [
    {
     "data": {
      "image/png": "[encoded data removed]",
      "text/plain": [
       "<Figure size 432x288 with 1 Axes>"
      ]
     },
     "metadata": {
      "needs_background": "light"
     },
     "output_type": "display_data"
    }
   ],
   "source": [
    "plt.hist(df[\"DelinquentMore90Days_2Yrs\"])\n",
    "plt.title(\"DelinquentMore90Days_2Yrs\")\n",
    "plt.show()"
   ]
  },
  {
   "cell_type": "markdown",
   "metadata": {},
   "source": [
    "---\n",
    "Clearly, classes are very inbalanced, so observations with value 0 overweights those who are with value 1. It can cause misleading results, so **accuracy** is not the best tool to use.\n",
    "Missing a person who is delinquent can bring more issues than opposite prediction (predicting that a person will be delinquent, but it will not be).<br>\n",
    "**Recall** = True Positive / (True Positive + False Negative) <br>\n",
    "**Specificity** = True Negative / (True Negative + False Positive)<br>\n",
    "**ROC and AUC** is a target measure to determine how good is discrimination\n",
    "***\n",
    "Resampling can be applied"
   ]
  },
  {
   "cell_type": "markdown",
   "metadata": {},
   "source": [
    "## 3. Building and Selecting the Model"
   ]
  },
  {
   "attachments": {},
   "cell_type": "markdown",
   "metadata": {},
   "source": [
    "Splitting into 3 parts in order to check different model performances\n",
    "- 70% train \n",
    "- 30% test\n",
    "\n",
    "We do not need validation data, because we are using **cross validation**.\n",
    "\n",
    "Since we do not have original test data, assuming test data is different dataset.\n",
    "\n",
    "Models have different advantageous and disadvantage for instance:\n",
    "#### Decision Tree\n",
    "- Easy to Understand\n",
    "- Easily Overfit\n",
    "- Sensitive to changes in train data\n",
    "\n",
    "#### Random Forest\n",
    "- Can deal with overfitting\n",
    "- Able to deal with large number of variables\n",
    "- Takes longer to train\n",
    "\n",
    "#### XGBoost\n",
    "- Became very popular algorithm for classification (fast, effective, outliers do not have impact, good performance in Kaggle)\n",
    "- Fastly handles big data sizes\n",
    "- Harder to understand (a lot of hyperparameters)\n",
    "\n",
    "Additionally, **Logistic Regression** is widely used for credit scoring, so by this case, all promising models will be tested in order to select the best"
   ]
  },
  {
   "cell_type": "code",
   "execution_count": 31,
   "metadata": {},
   "outputs": [],
   "source": [
    "train, test = train_test_split(df,test_size=0.3)"
   ]
  },
  {
   "cell_type": "code",
   "execution_count": 32,
   "metadata": {},
   "outputs": [],
   "source": [
    "X_train = train.drop([\"DelinquentMore90Days_2Yrs\"],axis=1)\n",
    "Y_train = train[\"DelinquentMore90Days_2Yrs\"]\n",
    "X_test = test.drop([\"DelinquentMore90Days_2Yrs\"],axis=1)\n",
    "Y_test = test[\"DelinquentMore90Days_2Yrs\"]"
   ]
  },
  {
   "cell_type": "markdown",
   "metadata": {},
   "source": [
    "### Given Models"
   ]
  },
  {
   "cell_type": "code",
   "execution_count": 33,
   "metadata": {},
   "outputs": [],
   "source": [
    "classifiers ={\n",
    "    \"LogisticRegression\" : LogisticRegression(max_iter = 1000),\n",
    "    \"RandomForestClassifier\" : RandomForestClassifier(),\n",
    "    \"KNearest\": KNeighborsClassifier(),\n",
    "    \"DecisionTreeClassifier\": tree.DecisionTreeClassifier(),\n",
    "    \"Support Vector Machine\": svm.SVC(),\n",
    "    \"Stochastic Gradient Descent\": SGDClassifier(),\n",
    "    \"Extreme Gradient Boosting\": XGBClassifier()\n",
    "}"
   ]
  },
  {
   "cell_type": "markdown",
   "metadata": {},
   "source": [
    "In order to have better accuracy of the model (priority to avoid frauds) **roc_auc** is a good measure"
   ]
  },
  {
   "cell_type": "code",
   "execution_count": 34,
   "metadata": {},
   "outputs": [
    {
     "name": "stdout",
     "output_type": "stream",
     "text": [
      "LogisticRegression score 0.82   Running Time 20.34\n",
      "RandomForestClassifier score 0.82   Running Time 132.03\n",
      "KNearest score 0.55   Running Time 2.7\n",
      "DecisionTreeClassifier score 0.59   Running Time 5.85\n",
      "Support Vector Machine score 0.52   Running Time 227.03\n",
      "Stochastic Gradient Descent score 0.64   Running Time 30.95\n",
      "Extreme Gradient Boosting score 0.84   Running Time 30.38\n"
     ]
    }
   ],
   "source": [
    "for key, clf in classifiers.items():\n",
    "    start_time = time.time()\n",
    "    score = cross_val_score(clf,X_train,Y_train,cv = 10,scoring='roc_auc')\n",
    "    end_time = time.time() - start_time\n",
    "    print(key,'score',round(score.mean(),2),'  Running Time', round(end_time,2))\n",
    "    "
   ]
  },
  {
   "cell_type": "markdown",
   "metadata": {},
   "source": [
    "Since model **Extreme Gradient Boosting** has the best roc_auc, it will be taken for the final prediction"
   ]
  },
  {
   "cell_type": "markdown",
   "metadata": {},
   "source": [
    " ## 4. Performance of Model"
   ]
  },
  {
   "cell_type": "code",
   "execution_count": 35,
   "metadata": {},
   "outputs": [],
   "source": [
    "seleceted_model = XGBClassifier()\n",
    "seleceted_model.fit(X_train,Y_train)\n",
    "Y_test_predicted = seleceted_model.predict(X_test)"
   ]
  },
  {
   "cell_type": "code",
   "execution_count": 36,
   "metadata": {},
   "outputs": [
    {
     "name": "stdout",
     "output_type": "stream",
     "text": [
      "Accuracy:  0.94315934559837\n"
     ]
    }
   ],
   "source": [
    "print('Accuracy: ',accuracy_score(Y_test, Y_test_predicted))"
   ]
  },
  {
   "cell_type": "code",
   "execution_count": 37,
   "metadata": {},
   "outputs": [
    {
     "data": {
      "text/html": [
       "<div>\n",
       "<style scoped>\n",
       "    .dataframe tbody tr th:only-of-type {\n",
       "        vertical-align: middle;\n",
       "    }\n",
       "\n",
       "    .dataframe tbody tr th {\n",
       "        vertical-align: top;\n",
       "    }\n",
       "\n",
       "    .dataframe thead th {\n",
       "        text-align: right;\n",
       "    }\n",
       "</style>\n",
       "<table border=\"1\" class=\"dataframe\">\n",
       "  <thead>\n",
       "    <tr style=\"text-align: right;\">\n",
       "      <th>Predicted</th>\n",
       "      <th>0</th>\n",
       "      <th>1</th>\n",
       "      <th>All</th>\n",
       "    </tr>\n",
       "    <tr>\n",
       "      <th>True</th>\n",
       "      <th></th>\n",
       "      <th></th>\n",
       "      <th></th>\n",
       "    </tr>\n",
       "  </thead>\n",
       "  <tbody>\n",
       "    <tr>\n",
       "      <th>0</th>\n",
       "      <td>31177</td>\n",
       "      <td>194</td>\n",
       "      <td>31371</td>\n",
       "    </tr>\n",
       "    <tr>\n",
       "      <th>1</th>\n",
       "      <td>1703</td>\n",
       "      <td>300</td>\n",
       "      <td>2003</td>\n",
       "    </tr>\n",
       "    <tr>\n",
       "      <th>All</th>\n",
       "      <td>32880</td>\n",
       "      <td>494</td>\n",
       "      <td>33374</td>\n",
       "    </tr>\n",
       "  </tbody>\n",
       "</table>\n",
       "</div>"
      ],
      "text/plain": [
       "Predicted      0    1    All\n",
       "True                        \n",
       "0          31177  194  31371\n",
       "1           1703  300   2003\n",
       "All        32880  494  33374"
      ]
     },
     "execution_count": 37,
     "metadata": {},
     "output_type": "execute_result"
    }
   ],
   "source": [
    "pd.crosstab(np.array(Y_test), Y_test_predicted, rownames=['True'], colnames=['Predicted'], margins=True)"
   ]
  },
  {
   "cell_type": "markdown",
   "metadata": {},
   "source": [
    "In general by percentage, a lot of values 1 are missed, because our classification data is inbalanced"
   ]
  },
  {
   "cell_type": "markdown",
   "metadata": {},
   "source": [
    "#### ROC and AUC"
   ]
  },
  {
   "cell_type": "code",
   "execution_count": 38,
   "metadata": {},
   "outputs": [],
   "source": [
    "false_positive_rate, true_positive_rate, thresholds = roc_curve(Y_test, seleceted_model.predict_proba(X_test)[:,1])"
   ]
  },
  {
   "cell_type": "code",
   "execution_count": 39,
   "metadata": {
    "scrolled": true
   },
   "outputs": [
    {
     "name": "stdout",
     "output_type": "stream",
     "text": [
      "0.8474827604310916\n"
     ]
    }
   ],
   "source": [
    "auc_score = auc(false_positive_rate, true_positive_rate)\n",
    "print(auc_score)"
   ]
  },
  {
   "cell_type": "markdown",
   "metadata": {},
   "source": [
    "**Recall** = TP / (TP+FN) <br>\n",
    "**Specificity** = TN / (TN+FP)"
   ]
  },
  {
   "cell_type": "code",
   "execution_count": 40,
   "metadata": {},
   "outputs": [
    {
     "data": {
      "image/png": "[encoded data removed]",
      "text/plain": [
       "<Figure size 432x288 with 1 Axes>"
      ]
     },
     "metadata": {
      "needs_background": "light"
     },
     "output_type": "display_data"
    }
   ],
   "source": [
    "plt.title('Receiver operating characteristic')\n",
    "plt.plot(false_positive_rate,true_positive_rate,label = 'AUC = %0.2f' % auc_score)\n",
    "plt.legend(loc = 'lower right')\n",
    "plt.plot([0, 1], [0, 1],linestyle='--')\n",
    "plt.axis('tight')\n",
    "plt.ylabel('TPR (Recall)')\n",
    "plt.xlabel('FPS (1-Specificity)')\n",
    "plt.show()"
   ]
  },
  {
   "cell_type": "markdown",
   "metadata": {},
   "source": [
    "Usually a good model has AUC higher than 0.5, the bigger AUC plot is, the better model is. Since our models' AUC is 0.85 the classification model is good, but risky, depends how damageable is to miss a delinquent customer.\n",
    "\n",
    "A model **can be improved** by applying:\n",
    "- Grid Search to find the most optimal parameters (proper hyperparameters)\n",
    "- Resampling to rebalance classification models\n",
    "- Testing more classification models\n",
    "- Try not to remove missing MonthlyIncome rows, but to apply mean, add additional column where 1 gives a value for rows where data is missing or even to predict missing values\n",
    "- Remove variables based on Information Value\n",
    "- Make interactive grouping of given data\n",
    "- Standardize data to have normal distribution (reduce skewness). This is obvious that it would improve the model since our data is not normally distributed",
    "- Scale data to have similar ranges of values"
   ]
  }
 ],
 "metadata": {
  "kernelspec": {
   "display_name": "Python 3",
   "language": "python",
   "name": "python3"
  },
  "language_info": {
   "codemirror_mode": {
    "name": "ipython",
    "version": 3
   },
   "file_extension": ".py",
   "mimetype": "text/x-python",
   "name": "python",
   "nbconvert_exporter": "python",
   "pygments_lexer": "ipython3",
   "version": "3.7.6"
  }
 },
 "nbformat": 4,
 "nbformat_minor": 4
}
